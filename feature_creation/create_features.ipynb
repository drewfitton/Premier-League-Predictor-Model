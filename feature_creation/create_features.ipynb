{
 "cells": [
  {
   "cell_type": "markdown",
   "metadata": {},
   "source": [
    "# Generate new features to train model"
   ]
  },
  {
   "cell_type": "markdown",
   "metadata": {},
   "source": [
    "## Import Packages"
   ]
  },
  {
   "cell_type": "code",
   "execution_count": 50,
   "metadata": {},
   "outputs": [],
   "source": [
    "import os\n",
    "import numpy as np\n",
    "import pandas as pd\n",
    "from sqlalchemy import create_engine\n",
    "import psycopg2\n",
    "from datetime import datetime\n",
    "import time"
   ]
  },
  {
   "cell_type": "markdown",
   "metadata": {},
   "source": [
    "## Get Directories"
   ]
  },
  {
   "cell_type": "code",
   "execution_count": 51,
   "metadata": {},
   "outputs": [],
   "source": [
    "BASE_DIR = os.path.dirname(os.path.abspath('__file__'))\n",
    "DATA_DIR = os.path.join(BASE_DIR, '../clean_data', 'data_out')"
   ]
  },
  {
   "cell_type": "code",
   "execution_count": 52,
   "metadata": {},
   "outputs": [],
   "source": [
    "db_user = 'db_user'    # Replace with your PostgreSQL username\n",
    "db_password = 'db_password'  # Replace with your PostgreSQL password\n",
    "db_host = 'localhost'      # Replace with your PostgreSQL host (e.g., localhost or IP)\n",
    "db_port = '5432'           # PostgreSQL port (default is 5432)\n",
    "db_name = 'db_name'  # Replace with your PostgreSQL db name  \n",
    "\n",
    "connection_string = f\"postgresql+psycopg2://{db_user}:{db_password}@{db_host}:{db_port}/{db_name}\""
   ]
  },
  {
   "cell_type": "code",
   "execution_count": 53,
   "metadata": {},
   "outputs": [
    {
     "name": "stdout",
     "output_type": "stream",
     "text": [
      "Table queried successfully.\n",
      "Connection closed.\n"
     ]
    }
   ],
   "source": [
    "# Create the SQLAlchemy engine\n",
    "engine = create_engine(connection_string)\n",
    "#Create query\n",
    "query = \"SELECT * FROM raw_match_data\"\n",
    "# Read the dfFrame from a PostgreSQL table\n",
    "try:\n",
    "    df = pd.read_sql(query, engine)\n",
    "\n",
    "    print(\"Table queried successfully.\")\n",
    "    \n",
    "finally:\n",
    "    engine.dispose()\n",
    "    print(\"Connection closed.\")"
   ]
  },
  {
   "cell_type": "code",
   "execution_count": 54,
   "metadata": {},
   "outputs": [],
   "source": [
    "df = df.iloc[::-1].reset_index(drop=True)\n"
   ]
  },
  {
   "cell_type": "markdown",
   "metadata": {},
   "source": [
    "## Convert feature types"
   ]
  },
  {
   "cell_type": "code",
   "execution_count": 55,
   "metadata": {},
   "outputs": [],
   "source": [
    "# Convert number columns to integers, data column to datetime\n",
    "df['season'] = df['season'].str.split('/').str[0]\n",
    "df['date'] = pd.to_datetime(df['date'])\n",
    "df['match_name'] = df['home_team'] + ' - ' + df['away_team']\n",
    "df[['season', 'home_goals', 'away_goals', 'home_odds', 'draw_odds', 'away_odds']] = df[['season', 'h_goals', 'a_goals', 'h_odds', 'd_odds', 'a_odds']].astype(np.int64)\n",
    "df = df.drop(columns=['h_goals', 'a_goals', 'h_odds', 'd_odds', 'a_odds'])"
   ]
  },
  {
   "cell_type": "markdown",
   "metadata": {},
   "source": [
    "## Add new features to matches"
   ]
  },
  {
   "cell_type": "code",
   "execution_count": 56,
   "metadata": {},
   "outputs": [],
   "source": [
    "#Add winner column to denote result of match\n",
    "df['winner'] = np.where(df['home_goals'] > df['away_goals'], 'HOME_TEAM', np.where(df['away_goals'] > df['home_goals'], 'AWAY_TEAM', 'DRAW'))\n",
    "\n",
    "#Give home teams result points\n",
    "df['home_match_points'] = np.where(df['winner'] == 'HOME_TEAM', 3 , np.where(df['winner'] == 'DRAW',1, 0))\n",
    "\n",
    "#Give away teams result points\n",
    "df['away_match_points'] = np.where(df['winner'] == 'AWAY_TEAM', 3 , np.where(df['winner'] == 'DRAW',1, 0))\n"
   ]
  },
  {
   "cell_type": "markdown",
   "metadata": {},
   "source": [
    "## Calculate Last 3 averages"
   ]
  },
  {
   "cell_type": "code",
   "execution_count": 57,
   "metadata": {},
   "outputs": [],
   "source": [
    "# Define a function to calculate simple and weighted exponential averages\n",
    "def calculate_last_3_averages(matches):\n",
    "    # Handle if fewer than 3 matches are available\n",
    "    last_3_matches = matches[-3:]  # Get the last 3 matches\n",
    "    \n",
    "    # If there are no matches yet, return zeros\n",
    "    if not last_3_matches:\n",
    "        return 0, 0, 0, 0, 0, 0\n",
    "    \n",
    "    # Calculate simple averages\n",
    "    avg_pts = round(sum(m['points'] for m in last_3_matches) / len(last_3_matches), 3)\n",
    "    avg_goals_for = round(sum(m['goals_for'] for m in last_3_matches) / len(last_3_matches), 3)\n",
    "    avg_goals_against = round(sum(m['goals_against'] for m in last_3_matches) / len(last_3_matches), 3)\n",
    "    \n",
    "    # Calculate weighted averages with higher weight for more recent matches\n",
    "    weights = [0.5, 0.3, 0.2]  # Example weights for the last 3 matches (most recent gets highest weight)\n",
    "    weight_sum = sum(weights[:len(last_3_matches)])\n",
    "    \n",
    "    wavg_pts = round(sum(m['points'] * weights[i] for i, m in enumerate(last_3_matches)) / weight_sum, 3)\n",
    "    wavg_goals_for = round(sum(m['goals_for'] * weights[i] for i, m in enumerate(last_3_matches)) / weight_sum, 3)\n",
    "    wavg_goals_against = round(sum(m['goals_against'] * weights[i] for i, m in enumerate(last_3_matches)) / weight_sum, 3)\n",
    "    \n",
    "    return avg_pts, avg_goals_for, avg_goals_against, wavg_pts, wavg_goals_for, wavg_goals_against"
   ]
  },
  {
   "cell_type": "markdown",
   "metadata": {},
   "source": [
    "## Update teams season stats for current match"
   ]
  },
  {
   "cell_type": "code",
   "execution_count": 58,
   "metadata": {},
   "outputs": [],
   "source": [
    "# Define a function to update team stats, and append match data to the last 3 matches list\n",
    "def update_team_stats(stats, team, is_home, goals_for, goals_against, result, opponent_rank):\n",
    "    # Update points and streaks based on match result\n",
    "    if result == 'win':\n",
    "        points = 3\n",
    "        stats[team]['points'] += 3\n",
    "        stats[team]['wins'] += 1\n",
    "        stats[team]['win_streak'] += 1\n",
    "        stats[team]['loss_streak'] = 0\n",
    "        stats[team]['draw_streak'] = 0\n",
    "    elif result == 'draw':\n",
    "        points = 1\n",
    "        stats[team]['points'] += 1\n",
    "        stats[team]['draws'] += 1\n",
    "        stats[team]['draw_streak'] += 1\n",
    "        stats[team]['win_streak'] = 0\n",
    "        stats[team]['loss_streak'] = 0\n",
    "    else:  # loss\n",
    "        points = 0\n",
    "        stats[team]['losses'] += 1\n",
    "        stats[team]['loss_streak'] += 1\n",
    "        stats[team]['win_streak'] = 0\n",
    "        stats[team]['draw_streak'] = 0\n",
    "    \n",
    "    # Append current match data to the last_3_matches list\n",
    "    stats[team]['last_3_matches'].append({\n",
    "        'points': points,\n",
    "        'goals_for': goals_for,\n",
    "        'goals_against': goals_against,\n",
    "        'opponent_rank': opponent_rank\n",
    "    })\n",
    "\n",
    "    stats[team]['all_matches'].append({\n",
    "        'points': points,\n",
    "        'goals_for': goals_for,\n",
    "        'goals_against': goals_against,\n",
    "        'opponent_rank': opponent_rank\n",
    "    })\n",
    "    \n",
    "    # Limit the list to the last 3 matches\n",
    "    if len(stats[team]['last_3_matches']) >3 :\n",
    "        stats[team]['last_3_matches'].pop(0)\n",
    "    \n",
    "\n",
    "    \n",
    "    # Update cumulative stats\n",
    "    stats[team]['goals_for'] += goals_for\n",
    "    stats[team]['goals_against'] += goals_against"
   ]
  },
  {
   "cell_type": "code",
   "execution_count": 59,
   "metadata": {},
   "outputs": [],
   "source": [
    "def add_team_stats(stats, team):\n",
    "    if team not in stats:\n",
    "        stats[team] = {\n",
    "            'points': 0,\n",
    "            'goals_for': 0,\n",
    "            'goals_against': 0,\n",
    "            'wins': 0,\n",
    "            'draws': 0,\n",
    "            'losses': 0,\n",
    "            'win_streak': 0,\n",
    "            'loss_streak': 0,\n",
    "            'draw_streak': 0,\n",
    "            'last_3_matches': [], # Store last 3 matches for calculating averages\n",
    "            'all_matches': []\n",
    "        }\n"
   ]
  },
  {
   "cell_type": "markdown",
   "metadata": {},
   "source": [
    "## Iterate over matches df, adding features for each entry"
   ]
  },
  {
   "cell_type": "code",
   "execution_count": 63,
   "metadata": {},
   "outputs": [],
   "source": [
    "team_stats = {}\n",
    "ranks = {}\n",
    "# Define the rank difference threshold to determine similar ranks\n",
    "similar_rank_threshold = 2\n",
    "\n",
    "# Iterate over each row in the DataFrame\n",
    "for idx, row in df.iterrows():\n",
    "    season = row['season']\n",
    "    home_team = row['home_team']\n",
    "    away_team = row['away_team']\n",
    "    home_goals = row['home_goals']\n",
    "    away_goals = row['away_goals']\n",
    "    \n",
    "    if season not in team_stats:\n",
    "        team_stats[season] = {}\n",
    "    \n",
    "    # Determine match result for both home and away teams\n",
    "    if home_goals > away_goals:\n",
    "        home_result = 'win'\n",
    "        away_result = 'loss'\n",
    "    elif home_goals < away_goals:\n",
    "        home_result = 'loss'\n",
    "        away_result = 'win'\n",
    "    else:\n",
    "        home_result = 'draw'\n",
    "        away_result = 'draw'\n",
    "    \n",
    "    # Ensure each team's stats are initialized\n",
    "    add_team_stats(team_stats[season], home_team)\n",
    "    add_team_stats(team_stats[season], away_team)\n",
    "    \n",
    "    # Calculate last 3 averages for home and away teams\n",
    "    home_avg_pts, home_avg_goals, home_avg_goals_against, home_wavg_pts, home_wavg_goals, home_wavg_goals_against = calculate_last_3_averages(team_stats[season][home_team]['last_3_matches'])\n",
    "    away_avg_pts, away_avg_goals, away_avg_goals_against, away_wavg_pts, away_wavg_goals, away_wavg_goals_against = calculate_last_3_averages(team_stats[season][away_team]['last_3_matches'])\n",
    "    \n",
    "    # Calculate rank by sorting the teams based on points, then goal difference\n",
    "    standings = sorted(team_stats[season].items(), key=lambda x: (x[1]['points'], x[1]['goals_for'] - x[1]['goals_against'], x[1]['goals_for']), reverse=True)\n",
    "    ranks = {team: rank+1 for rank, (team, stats) in enumerate(standings)}\n",
    "    \n",
    "    # Attributes to track for each match\n",
    "    attributes = [\n",
    "        'points', 'rank', 'goals_for', 'goals_against', \n",
    "        'wins', 'draws', 'losses', 'win_streak', \n",
    "        'loss_streak', 'draw_streak'\n",
    "    ]\n",
    "    \n",
    "    # Update DataFrame for home and away teams\n",
    "    for attr in attributes:\n",
    "        if attr == 'rank':\n",
    "            df.at[idx, 'home_rank'] = ranks[home_team]\n",
    "            df.at[idx, 'away_rank'] = ranks[away_team]\n",
    "        else:\n",
    "            df.at[idx, f'home_{attr}'] = team_stats[season][home_team][attr]\n",
    "            df.at[idx, f'away_{attr}'] = team_stats[season][away_team][attr]\n",
    "\n",
    "    # Add calculated averages to the DataFrame\n",
    "    averages = [\n",
    "        ('avg_pts', home_avg_pts, away_avg_pts),\n",
    "        ('goals', home_avg_goals, away_avg_goals),\n",
    "        ('goals_against', home_avg_goals_against, away_avg_goals_against),\n",
    "        ('wavg_pts', home_wavg_pts, away_wavg_pts),\n",
    "        ('wavg_goals', home_wavg_goals, away_wavg_goals),\n",
    "        ('wavg_goals_against', home_wavg_goals_against, away_wavg_goals_against)\n",
    "    ]\n",
    "\n",
    "    for suffix, home_val, away_val in averages:\n",
    "        df.at[idx, f'home_last_3_{suffix}'] = home_val\n",
    "        df.at[idx, f'away_last_3_{suffix}'] = away_val\n",
    "\n",
    "    # Calculate and add the home_points * away_points interaction\n",
    "    if team_stats[season][away_team]['points'] == 0 and team_stats[season][home_team]['points'] == 0:\n",
    "        df.at[idx, 'home_away_points_interaction'] = 1\n",
    "    elif team_stats[season][away_team]['points'] == 0:\n",
    "        df.at[idx, 'home_away_points_interaction'] = team_stats[season][home_team]['points']\n",
    "    else: \n",
    "        df.at[idx, 'home_away_points_interaction'] = team_stats[season][home_team]['points'] / team_stats[season][away_team]['points']\n",
    "    \n",
    "    # Calculate win/loss ratio against similarly ranked teams for home and away teams\n",
    "    home_similar_rank_matches = 0\n",
    "    home_similar_rank_wins = 0\n",
    "    home_similar_rank_goals = 0\n",
    "    home_similar_rank_ga = 0\n",
    "    away_similar_rank_matches = 0\n",
    "    away_similar_rank_wins = 0\n",
    "    away_similar_rank_goals = 0\n",
    "    away_similar_rank_ga = 0\n",
    "\n",
    "    # Check previous match results to calculate ratios against similarly ranked teams\n",
    "    for match in team_stats[season][home_team]['all_matches']:\n",
    "        opponent_rank = ranks[away_team]\n",
    "        if abs(match['opponent_rank'] - opponent_rank) <= similar_rank_threshold:\n",
    "            home_similar_rank_matches += 1\n",
    "            if match['points'] == 3:\n",
    "                home_similar_rank_wins += 1\n",
    "                home_similar_rank_goals += match['goals_for']\n",
    "                home_similar_rank_ga += match['goals_against']\n",
    "\n",
    "    for match in team_stats[season][away_team]['all_matches']:\n",
    "        opponent_rank = ranks[home_team]\n",
    "        if abs(match['opponent_rank'] - opponent_rank) <= similar_rank_threshold:\n",
    "            away_similar_rank_matches += 1\n",
    "            if match['points'] == 3:\n",
    "                away_similar_rank_wins += 1\n",
    "                away_similar_rank_goals += match['goals_for']\n",
    "                away_similar_rank_ga += match['goals_against']\n",
    "\n",
    "    # Calculate and store win/loss ratios in the DataFrame\n",
    "    df.at[idx, 'home_similar_rank_win_ratio'] = (home_similar_rank_wins / home_similar_rank_matches) if home_similar_rank_matches > 0 else 0\n",
    "    df.at[idx, 'away_similar_rank_win_ratio'] = (away_similar_rank_wins / away_similar_rank_matches) if away_similar_rank_matches > 0 else 0\n",
    "    df.at[idx, 'home_similar_rank_goals'] = (home_similar_rank_goals / home_similar_rank_matches) if home_similar_rank_matches > 0 else 0\n",
    "    df.at[idx, 'away_similar_rank_goals'] = (away_similar_rank_goals / away_similar_rank_matches) if away_similar_rank_matches > 0 else 0\n",
    "    df.at[idx, 'home_similar_rank_ga'] = (home_similar_rank_ga / home_similar_rank_matches) if home_similar_rank_matches > 0 else 0\n",
    "    df.at[idx, 'away_similar_rank_ga'] = (away_similar_rank_ga / away_similar_rank_matches) if away_similar_rank_matches > 0 else 0\n",
    "    df.at[idx, 'home_similar_rank_goal_ratio'] = (home_similar_rank_goals / home_similar_rank_ga) if home_similar_rank_ga > 0 else 1\n",
    "    df.at[idx, 'away_similar_rank_goal_ratio'] = (away_similar_rank_goals / away_similar_rank_ga) if away_similar_rank_ga > 0 else 1\n",
    "\n",
    "    # Update home and away team stats\n",
    "    update_team_stats(team_stats[season], home_team, True, home_goals, away_goals, home_result, ranks[away_team])\n",
    "    update_team_stats(team_stats[season], away_team, False, away_goals, home_goals, away_result, ranks[home_team])\n",
    "\n",
    "    standings = sorted(team_stats[season].items(), key=lambda x: (x[1]['points'], x[1]['goals_for'] - x[1]['goals_against'], x[1]['goals_for']), reverse=True)\n",
    "    ranks = {team: rank+1 for rank, (team, stats) in enumerate(standings)}"
   ]
  },
  {
   "cell_type": "markdown",
   "metadata": {},
   "source": [
    "## Send data to Postgres DB"
   ]
  },
  {
   "cell_type": "code",
   "execution_count": 66,
   "metadata": {},
   "outputs": [
    {
     "name": "stdout",
     "output_type": "stream",
     "text": [
      "Table created successfully.\n"
     ]
    }
   ],
   "source": [
    "ranks_df = pd.DataFrame(list(ranks.items()), columns=['team_name', 'rank'])\n",
    "\n",
    "\n",
    "# Create the SQLAlchemy engine\n",
    "engine = create_engine(connection_string)\n",
    "\n",
    "# Write the DataFrame to a PostgreSQL table\n",
    "try:\n",
    "    # Write the DataFrame to a table named 'your_table_name', replace it with your desired table name\n",
    "    df.to_sql('match_statistics', engine, index=False, if_exists='replace')\n",
    "    ranks_df.to_sql('team_rankings', engine, index=False, if_exists='replace')\n",
    "\n",
    "    print(\"Table created successfully.\")\n",
    "except Exception as e:\n",
    "    print(f\"Error: {e}\")"
   ]
  },
  {
   "cell_type": "markdown",
   "metadata": {},
   "source": [
    "## Prep team info and match info for DB Entry"
   ]
  },
  {
   "cell_type": "code",
   "execution_count": 67,
   "metadata": {},
   "outputs": [],
   "source": [
    "# Flatten the data structure\n",
    "teams = []\n",
    "matches = []\n",
    "current_year = datetime.now().year if datetime.now().month > 6 else (datetime.now().year - 1)\n",
    "\n",
    "for team_name, team_data in team_stats[current_year].items():\n",
    "    # Team-level data\n",
    "    team_entry = {\n",
    "        'team_name': team_name,\n",
    "        'points': team_data['points'],\n",
    "        'goals_for': team_data['goals_for'],\n",
    "        'goals_against': team_data['goals_against'],\n",
    "        'wins': team_data['wins'],\n",
    "        'draws': team_data['draws'],\n",
    "        'losses': team_data['losses'],\n",
    "        'win_streak': team_data['win_streak'],\n",
    "        'loss_streak': team_data['loss_streak'],\n",
    "        'draw_streak': team_data['draw_streak']\n",
    "    }\n",
    "    teams.append(team_entry)\n",
    "\n",
    "    # Match-level data\n",
    "    for match_type, match_list in [('last_3_matches', team_data['last_3_matches']), ('all_matches', team_data['all_matches'])]:\n",
    "        for match in match_list:\n",
    "            match_entry = {\n",
    "                'team_name': team_name,\n",
    "                'match_type': match_type,\n",
    "                'points': match['points'],\n",
    "                'goals_for': match['goals_for'],\n",
    "                'goals_against': match['goals_against'],\n",
    "                'opponent_rank': match['opponent_rank']\n",
    "            }\n",
    "            matches.append(match_entry)\n"
   ]
  },
  {
   "cell_type": "markdown",
   "metadata": {},
   "source": [
    "## Send match and team info to Postgres"
   ]
  },
  {
   "cell_type": "code",
   "execution_count": 68,
   "metadata": {},
   "outputs": [],
   "source": [
    "conn_details = {\n",
    "    'dbname': 'drewf',\n",
    "    'user': 'drewf',\n",
    "    'password': 'Soccer.666',\n",
    "    'host': 'localhost',\n",
    "    'port': '5432'\n",
    "}\n",
    "\n",
    "# Connect to the database\n",
    "conn = psycopg2.connect(**conn_details)\n",
    "cur = conn.cursor()\n",
    "\n",
    "# Insert teams data\n",
    "cur.execute(\"DROP TABLE IF EXISTS teams CASCADE;\")\n",
    "cur.execute(\"\"\"\n",
    "        CREATE TABLE teams (\n",
    "            team_name VARCHAR PRIMARY KEY,\n",
    "            points INT,\n",
    "            goals_for INT,\n",
    "            goals_against INT,\n",
    "            wins INT,\n",
    "            draws INT,\n",
    "            losses INT,\n",
    "            win_streak INT,\n",
    "            loss_streak INT,\n",
    "            draw_streak INT\n",
    "        );\n",
    "    \"\"\")\n",
    "for team in teams:\n",
    "    cur.execute(\n",
    "        \"\"\"\n",
    "        INSERT INTO teams (team_name, points, goals_for, goals_against, wins, draws, losses, win_streak, loss_streak, draw_streak)\n",
    "        VALUES (%(team_name)s, %(points)s, %(goals_for)s, %(goals_against)s, %(wins)s, %(draws)s, %(losses)s, %(win_streak)s, %(loss_streak)s, %(draw_streak)s)\n",
    "        ON CONFLICT (team_name) DO NOTHING;\n",
    "        \"\"\",\n",
    "        team\n",
    "    )\n",
    "\n",
    "# Insert matches data\n",
    "cur.execute(\"DROP TABLE IF EXISTS matches;\")\n",
    "cur.execute(\"\"\"\n",
    "        CREATE TABLE matches (\n",
    "            match_id SERIAL PRIMARY KEY,\n",
    "            team_name VARCHAR REFERENCES teams (team_name),\n",
    "            match_type VARCHAR,\n",
    "            points INT,\n",
    "            goals_for INT,\n",
    "            goals_against INT,\n",
    "            opponent_rank INT\n",
    "        );\n",
    "    \"\"\")\n",
    "for match in matches:\n",
    "    cur.execute(\n",
    "        \"\"\"\n",
    "        INSERT INTO matches (team_name, match_type, points, goals_for, goals_against, opponent_rank)\n",
    "        VALUES (%(team_name)s, %(match_type)s, %(points)s, %(goals_for)s, %(goals_against)s, %(opponent_rank)s);\n",
    "        \"\"\",\n",
    "        match\n",
    "    )\n",
    "\n",
    "# Commit and close connection\n",
    "conn.commit()\n",
    "cur.close()\n",
    "conn.close()"
   ]
  },
  {
   "cell_type": "code",
   "execution_count": null,
   "metadata": {},
   "outputs": [],
   "source": []
  }
 ],
 "metadata": {
  "kernelspec": {
   "display_name": "gamePredictor",
   "language": "python",
   "name": "python3"
  },
  "language_info": {
   "codemirror_mode": {
    "name": "ipython",
    "version": 3
   },
   "file_extension": ".py",
   "mimetype": "text/x-python",
   "name": "python",
   "nbconvert_exporter": "python",
   "pygments_lexer": "ipython3",
   "version": "3.11.10"
  }
 },
 "nbformat": 4,
 "nbformat_minor": 2
}
